{
  "nbformat": 4,
  "nbformat_minor": 0,
  "metadata": {
    "colab": {
      "name": "DLProject1.ipynb",
      "provenance": [],
      "collapsed_sections": []
    },
    "kernelspec": {
      "name": "python3",
      "display_name": "Python 3"
    },
    "language_info": {
      "name": "python"
    }
  },
  "cells": [
    {
      "cell_type": "code",
      "metadata": {
        "id": "q7gYbQHXYrdw"
      },
      "source": [
        "import pandas as pd\n",
        "import numpy as np\n",
        "import matplotlib.pyplot as plt\n",
        "import tensorflow as tf\n",
        "from keras.layers import Dense,Conv2D,MaxPool2D,Dropout,Flatten\n",
        "from keras.models import Sequential\n",
        "from keras.preprocessing import image"
      ],
      "execution_count": null,
      "outputs": []
    },
    {
      "cell_type": "code",
      "metadata": {
        "colab": {
          "base_uri": "https://localhost:8080/"
        },
        "id": "XVzUy1GqZQdY",
        "outputId": "13cdd5cc-ff8d-415c-d790-02caa7e8491e"
      },
      "source": [
        "train_datagen=image.ImageDataGenerator(\n",
        "    rescale=1./255,horizontal_flip=True,zoom_range=0.2,shear_range=0.2\n",
        ")\n",
        "train_data=train_datagen.flow_from_directory('/content/drive/MyDrive/ColabNotebooks/Covid19-dataset/train',target_size=(256,256),batch_size=10,\n",
        "                                             class_mode='binary')"
      ],
      "execution_count": null,
      "outputs": [
        {
          "output_type": "stream",
          "name": "stdout",
          "text": [
            "Found 181 images belonging to 2 classes.\n"
          ]
        }
      ]
    },
    {
      "cell_type": "code",
      "metadata": {
        "colab": {
          "base_uri": "https://localhost:8080/"
        },
        "id": "gcbWJqlcaZNS",
        "outputId": "2c5175ed-05a7-4735-ba5b-d97e01bb0283"
      },
      "source": [
        "train_data.class_indices"
      ],
      "execution_count": null,
      "outputs": [
        {
          "output_type": "execute_result",
          "data": {
            "text/plain": [
              "{'Covid': 0, 'Normal': 1}"
            ]
          },
          "metadata": {},
          "execution_count": 3
        }
      ]
    },
    {
      "cell_type": "code",
      "metadata": {
        "colab": {
          "base_uri": "https://localhost:8080/"
        },
        "id": "2xW_tobyahjJ",
        "outputId": "0be2c586-df26-4432-9846-a890c22b808d"
      },
      "source": [
        "test_datagen=image.ImageDataGenerator(\n",
        "    rescale=1./255\n",
        ")\n",
        "test_data=test_datagen.flow_from_directory('/content/drive/MyDrive/ColabNotebooks/Covid19-dataset/test',target_size=(256,256),batch_size=10,\n",
        "                                             class_mode='binary')"
      ],
      "execution_count": null,
      "outputs": [
        {
          "output_type": "stream",
          "name": "stdout",
          "text": [
            "Found 46 images belonging to 2 classes.\n"
          ]
        }
      ]
    },
    {
      "cell_type": "code",
      "metadata": {
        "id": "k6TKhLO7a0o1"
      },
      "source": [
        "model = Sequential()\n",
        "\n",
        "model.add(Conv2D(filters=32,kernel_size=(3,3),activation='relu',input_shape=(256,256,3)))\n",
        "\n",
        "model.add(Conv2D(filters=64,kernel_size=(3,3),activation='relu'))\n",
        "model.add(MaxPool2D())\n",
        "model.add(Dropout(rate=0.25))\n",
        "\n",
        "model.add(Conv2D(filters=64,kernel_size=(3,3),activation='relu'))\n",
        "model.add(MaxPool2D())\n",
        "model.add(Dropout(rate=0.25))\n",
        "\n",
        "\n",
        "\n",
        "model.add(Flatten())\n",
        "\n",
        "model.add(Dense(units=50,activation='relu'))\n",
        "model.add(Dropout(rate=0.5))\n",
        "model.add(Dense(units=1,activation='sigmoid'))\n",
        "\n",
        "model.compile(loss='binary_crossentropy',optimizer='adam',metrics=['accuracy'])"
      ],
      "execution_count": null,
      "outputs": []
    },
    {
      "cell_type": "code",
      "metadata": {
        "colab": {
          "base_uri": "https://localhost:8080/"
        },
        "id": "NchLNg5Ya-qW",
        "outputId": "0a99c08c-8ace-42a3-9a77-dc130e10d890"
      },
      "source": [
        "model.summary()"
      ],
      "execution_count": null,
      "outputs": [
        {
          "output_type": "stream",
          "name": "stdout",
          "text": [
            "Model: \"sequential\"\n",
            "_________________________________________________________________\n",
            " Layer (type)                Output Shape              Param #   \n",
            "=================================================================\n",
            " conv2d (Conv2D)             (None, 254, 254, 32)      896       \n",
            "                                                                 \n",
            " conv2d_1 (Conv2D)           (None, 252, 252, 64)      18496     \n",
            "                                                                 \n",
            " max_pooling2d (MaxPooling2D  (None, 126, 126, 64)     0         \n",
            " )                                                               \n",
            "                                                                 \n",
            " dropout (Dropout)           (None, 126, 126, 64)      0         \n",
            "                                                                 \n",
            " conv2d_2 (Conv2D)           (None, 124, 124, 64)      36928     \n",
            "                                                                 \n",
            " max_pooling2d_1 (MaxPooling  (None, 62, 62, 64)       0         \n",
            " 2D)                                                             \n",
            "                                                                 \n",
            " dropout_1 (Dropout)         (None, 62, 62, 64)        0         \n",
            "                                                                 \n",
            " flatten (Flatten)           (None, 246016)            0         \n",
            "                                                                 \n",
            " dense (Dense)               (None, 50)                12300850  \n",
            "                                                                 \n",
            " dropout_2 (Dropout)         (None, 50)                0         \n",
            "                                                                 \n",
            " dense_1 (Dense)             (None, 1)                 51        \n",
            "                                                                 \n",
            "=================================================================\n",
            "Total params: 12,357,221\n",
            "Trainable params: 12,357,221\n",
            "Non-trainable params: 0\n",
            "_________________________________________________________________\n"
          ]
        }
      ]
    },
    {
      "cell_type": "code",
      "metadata": {
        "id": "wFWYKCFCbBpf"
      },
      "source": [
        "from tensorflow.keras.callbacks import EarlyStopping\n",
        "earlystop=EarlyStopping(monitor='val_loss',mode='min',verbose=1,patience=5)"
      ],
      "execution_count": null,
      "outputs": []
    },
    {
      "cell_type": "code",
      "metadata": {
        "colab": {
          "base_uri": "https://localhost:8080/"
        },
        "id": "r1oh3qH_bFgI",
        "outputId": "df1c2002-cdee-49a9-b881-27d1bfeb064e"
      },
      "source": [
        "model.fit_generator(train_data,epochs=16,validation_steps=2,validation_data=test_data,callbacks=[earlystop])"
      ],
      "execution_count": null,
      "outputs": [
        {
          "output_type": "stream",
          "name": "stderr",
          "text": [
            "/usr/local/lib/python3.7/dist-packages/ipykernel_launcher.py:1: UserWarning: `Model.fit_generator` is deprecated and will be removed in a future version. Please use `Model.fit`, which supports generators.\n",
            "  \"\"\"Entry point for launching an IPython kernel.\n"
          ]
        },
        {
          "output_type": "stream",
          "name": "stdout",
          "text": [
            "Epoch 1/16\n",
            "19/19 [==============================] - 118s 6s/step - loss: 1.0683 - accuracy: 0.5801 - val_loss: 0.6068 - val_accuracy: 0.6000\n",
            "Epoch 2/16\n",
            "19/19 [==============================] - 74s 4s/step - loss: 0.5309 - accuracy: 0.7293 - val_loss: 0.4278 - val_accuracy: 0.9500\n",
            "Epoch 3/16\n",
            "19/19 [==============================] - 72s 4s/step - loss: 0.3333 - accuracy: 0.8343 - val_loss: 0.1612 - val_accuracy: 1.0000\n",
            "Epoch 4/16\n",
            "19/19 [==============================] - 75s 4s/step - loss: 0.2950 - accuracy: 0.8674 - val_loss: 0.2907 - val_accuracy: 0.9500\n",
            "Epoch 5/16\n",
            "19/19 [==============================] - 72s 4s/step - loss: 0.3338 - accuracy: 0.8619 - val_loss: 0.1911 - val_accuracy: 0.9500\n",
            "Epoch 6/16\n",
            "19/19 [==============================] - 71s 4s/step - loss: 0.3428 - accuracy: 0.8840 - val_loss: 0.2871 - val_accuracy: 0.9000\n",
            "Epoch 7/16\n",
            "19/19 [==============================] - 72s 4s/step - loss: 0.2893 - accuracy: 0.8453 - val_loss: 0.1255 - val_accuracy: 1.0000\n",
            "Epoch 8/16\n",
            "19/19 [==============================] - 71s 4s/step - loss: 0.2907 - accuracy: 0.8785 - val_loss: 0.1559 - val_accuracy: 1.0000\n",
            "Epoch 9/16\n",
            "19/19 [==============================] - 72s 4s/step - loss: 0.2398 - accuracy: 0.9171 - val_loss: 0.1367 - val_accuracy: 1.0000\n",
            "Epoch 10/16\n",
            "19/19 [==============================] - 73s 4s/step - loss: 0.1906 - accuracy: 0.9227 - val_loss: 0.2479 - val_accuracy: 0.9000\n",
            "Epoch 11/16\n",
            "19/19 [==============================] - 72s 4s/step - loss: 0.2693 - accuracy: 0.8729 - val_loss: 0.1511 - val_accuracy: 0.9500\n",
            "Epoch 12/16\n",
            "19/19 [==============================] - 72s 4s/step - loss: 0.2034 - accuracy: 0.9392 - val_loss: 0.2823 - val_accuracy: 0.9000\n",
            "Epoch 00012: early stopping\n"
          ]
        },
        {
          "output_type": "execute_result",
          "data": {
            "text/plain": [
              "<keras.callbacks.History at 0x7fa45035d990>"
            ]
          },
          "metadata": {},
          "execution_count": 8
        }
      ]
    },
    {
      "cell_type": "code",
      "metadata": {
        "colab": {
          "base_uri": "https://localhost:8080/"
        },
        "id": "r80lAJXAbKbb",
        "outputId": "c354ca8c-35b2-4ed4-cc3d-5775627d86f2"
      },
      "source": [
        "acc=model.evaluate(test_data,steps=len(test_data),verbose=2)\n",
        "print('%.2f'%(acc[1]*100))"
      ],
      "execution_count": null,
      "outputs": [
        {
          "output_type": "stream",
          "name": "stdout",
          "text": [
            "5/5 - 5s - loss: 0.1704 - accuracy: 0.9565 - 5s/epoch - 938ms/step\n",
            "95.65\n"
          ]
        }
      ]
    },
    {
      "cell_type": "code",
      "metadata": {
        "id": "pkn9m0Der19d"
      },
      "source": [
        "from tensorflow.keras.models import load_model\n",
        "model.save('model1.h5')"
      ],
      "execution_count": null,
      "outputs": []
    },
    {
      "cell_type": "code",
      "metadata": {
        "id": "JIPR83myzyVr"
      },
      "source": [
        "model12=load_model('model1.h5')"
      ],
      "execution_count": null,
      "outputs": []
    },
    {
      "cell_type": "code",
      "metadata": {
        "colab": {
          "base_uri": "https://localhost:8080/"
        },
        "id": "52Bm2zqNl9UF",
        "outputId": "816292e2-d6fb-4c16-fa99-fc5347ffcad2"
      },
      "source": [
        "path='/content/drive/MyDrive/ColabNotebooks/Covid19-dataset/test/Covid/COVID-00003b.jpg'\n",
        "img=image.load_img(path,target_size=(256,256))\n",
        "img=image.img_to_array(img)/256\n",
        "img=np.array([img])\n",
        "img.shape"
      ],
      "execution_count": null,
      "outputs": [
        {
          "output_type": "execute_result",
          "data": {
            "text/plain": [
              "(1, 256, 256, 3)"
            ]
          },
          "metadata": {},
          "execution_count": 81
        }
      ]
    },
    {
      "cell_type": "code",
      "metadata": {
        "id": "QcRGIqwGmP04",
        "colab": {
          "base_uri": "https://localhost:8080/"
        },
        "outputId": "e0ceb072-ca7f-4d78-e236-88d373f44d29"
      },
      "source": [
        "model12.predict(img)"
      ],
      "execution_count": null,
      "outputs": [
        {
          "output_type": "execute_result",
          "data": {
            "text/plain": [
              "array([[0.05850682]], dtype=float32)"
            ]
          },
          "metadata": {},
          "execution_count": 82
        }
      ]
    },
    {
      "cell_type": "code",
      "metadata": {
        "colab": {
          "base_uri": "https://localhost:8080/"
        },
        "id": "BpiWKzstwKbq",
        "outputId": "c9e6609e-6f20-44c6-d577-b3c4b45bd130"
      },
      "source": [
        "path='/content/drive/MyDrive/ColabNotebooks/Covid19-dataset/test/Normal/0107.jpeg'\n",
        "img=image.load_img(path,target_size=(256,256))\n",
        "img=image.img_to_array(img)/256\n",
        "img=np.array([img])\n",
        "img.shape"
      ],
      "execution_count": null,
      "outputs": [
        {
          "output_type": "execute_result",
          "data": {
            "text/plain": [
              "(1, 256, 256, 3)"
            ]
          },
          "metadata": {},
          "execution_count": 84
        }
      ]
    },
    {
      "cell_type": "code",
      "metadata": {
        "colab": {
          "base_uri": "https://localhost:8080/"
        },
        "id": "jhq3a2xt4nQh",
        "outputId": "3d3513da-74b4-42bd-cae2-35e7bf064daf"
      },
      "source": [
        "model12.predict(img)"
      ],
      "execution_count": null,
      "outputs": [
        {
          "output_type": "execute_result",
          "data": {
            "text/plain": [
              "array([[0.9722514]], dtype=float32)"
            ]
          },
          "metadata": {},
          "execution_count": 85
        }
      ]
    },
    {
      "cell_type": "code",
      "metadata": {
        "id": "C_wwo0494tCR"
      },
      "source": [
        ""
      ],
      "execution_count": null,
      "outputs": []
    }
  ]
}